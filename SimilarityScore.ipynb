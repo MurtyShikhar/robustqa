{
 "cells": [
  {
   "cell_type": "code",
   "execution_count": null,
   "metadata": {},
   "outputs": [],
   "source": [
    "from gensim.test.utils import common_texts\n",
    "from gensim.models import Word2Vec\n",
    "from sklearn.metrics.pairwise import cosine_similarity\n",
    "\n",
    "model = Word2Vec(sentences=common_texts, vector_size=100, window=5, min_count=1, workers=4)\n",
    "#model.save(\"word2vec.model\")\n",
    "#model = Word2Vec.load(\"word2vec.model\")\n",
    "#vector = model.wv['computer']\n",
    "\n",
    "def get_similarity_score(original, paraphrase, model, vector_size):\n",
    "    original_feature = np.zeros((num_features,))\n",
    "    paraphrase_feature = np.zeros((num_features,))\n",
    "    original_list = original.split()\n",
    "    paraphrase_list = paraphrase.split()\n",
    "    original_len = len(original_list)\n",
    "    paraphrase_len = len(paraphrase_list)\n",
    "    for i in range(original_len):\n",
    "        original_feature = np.add(original_feature, model.wv[original_list[i]])\n",
    "    for i in range(paraphrase_len):\n",
    "        paraphrase_feature = np.add(paraphrase_feature, model.wv[paraphrase_list[i]])\n",
    "    original_feature = np.divide(original_feature, original_len)\n",
    "    paraphrase_feature = np.divide(paraphrase_feature, paraphrase_len)\n",
    "    return cosine_similarity(original_feature,paraphrase_feature)\n",
    "    \n"
   ]
  }
 ],
 "metadata": {
  "kernelspec": {
   "display_name": "Python 3",
   "language": "python",
   "name": "python3"
  },
  "language_info": {
   "codemirror_mode": {
    "name": "ipython",
    "version": 3
   },
   "file_extension": ".py",
   "mimetype": "text/x-python",
   "name": "python",
   "nbconvert_exporter": "python",
   "pygments_lexer": "ipython3",
   "version": "3.7.7"
  }
 },
 "nbformat": 4,
 "nbformat_minor": 4
}
